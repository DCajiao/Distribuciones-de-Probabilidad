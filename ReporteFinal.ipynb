{
 "cells": [
  {
   "cell_type": "markdown",
   "metadata": {},
   "source": [
    "#### Librerías y dataset"
   ]
  },
  {
   "cell_type": "code",
   "execution_count": null,
   "metadata": {},
   "outputs": [],
   "source": [
    "%pip install tabulate\n",
    "\n",
    "import tabulate\n",
    "import numpy as np\n",
    "import pandas as pd\n",
    "import matplotlib.pyplot as plt\n",
    "from scipy.stats import binom, expon, poisson, norm\n",
    "\n",
    "df = pd.read_csv(\"data/Web_Server_Requests_G.csv\")\n",
    "\n",
    "#Activar esto cuando el repo sea público para poderlo cargar en Colab\n",
    "#url = 'https://raw.githubusercontent.com/DCajiao/Distribuciones-de-Probabilidad/main/data/Web_Server_Requests_G.csv'\n",
    "#df = pd.read_csv(url)"
   ]
  }
 ],
 "metadata": {
  "kernelspec": {
   "display_name": "Python 3",
   "language": "python",
   "name": "python3"
  },
  "language_info": {
   "codemirror_mode": {
    "name": "ipython",
    "version": 3
   },
   "file_extension": ".py",
   "mimetype": "text/x-python",
   "name": "python",
   "nbconvert_exporter": "python",
   "pygments_lexer": "ipython3",
   "version": "3.11.9"
  }
 },
 "nbformat": 4,
 "nbformat_minor": 2
}
