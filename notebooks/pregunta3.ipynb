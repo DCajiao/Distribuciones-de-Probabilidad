{
 "cells": [
  {
   "cell_type": "markdown",
   "metadata": {},
   "source": [
    "### PREGUNTA 3"
   ]
  },
  {
   "cell_type": "markdown",
   "metadata": {},
   "source": [
    "La duración de la gestación humana se aproxima bien mediante una distribución normal con una media µ = 280 días y una desviación estándar σ = 8,5 días.\n",
    "\n",
    "1.  Realice graficas correspondiente a la función de densidad de probabilidad (pdf) y a la función de distribución acumulativa (cdf).\n",
    "2.  Supongamos que tienes un examen final que está programado para el 19 de abril y tu profesora embarazada tiene una fecha de parto prevista para el 24 de abril. Encuentre la probabilidad de que dé a luz el mismo día del examen final o antes.\n",
    "3.  Encuentre la probabilidad de que dé a luz en abril después del examen.\n",
    "4.  La profesora decide adelantar la fecha del examen para que haya un 95 % de probabilidad de que dé a luz después del examen. ¿Qué fecha debería elegir?"
   ]
  }
 ],
 "metadata": {
  "language_info": {
   "name": "python"
  }
 },
 "nbformat": 4,
 "nbformat_minor": 2
}
